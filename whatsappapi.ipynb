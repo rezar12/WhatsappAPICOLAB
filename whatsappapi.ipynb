{
  "nbformat": 4,
  "nbformat_minor": 0,
  "metadata": {
    "colab": {
      "name": "whatsappapi.ipynb",
      "provenance": [],
      "collapsed_sections": [],
      "authorship_tag": "ABX9TyP0OTKq0tECwmcUt3ytUoXE",
      "include_colab_link": true
    },
    "kernelspec": {
      "name": "python3",
      "display_name": "Python 3"
    },
    "language_info": {
      "name": "python"
    }
  },
  "cells": [
    {
      "cell_type": "markdown",
      "metadata": {
        "id": "view-in-github",
        "colab_type": "text"
      },
      "source": [
        "<a href=\"https://colab.research.google.com/github/rezar12/WhatsappAPICOLAB/blob/main/whatsappapi.ipynb\" target=\"_parent\"><img src=\"https://colab.research.google.com/assets/colab-badge.svg\" alt=\"Open In Colab\"/></a>"
      ]
    },
    {
      "cell_type": "code",
      "source": [
        "pip install beautifulsoup4"
      ],
      "metadata": {
        "colab": {
          "base_uri": "https://localhost:8080/"
        },
        "id": "eBUfTpbtzkhy",
        "outputId": "3d15d5d5-90b2-4483-fcb7-7abe5a196841"
      },
      "execution_count": null,
      "outputs": [
        {
          "output_type": "stream",
          "name": "stdout",
          "text": [
            "Looking in indexes: https://pypi.org/simple, https://us-python.pkg.dev/colab-wheels/public/simple/\n",
            "Requirement already satisfied: beautifulsoup4 in /usr/local/lib/python3.7/dist-packages (4.6.3)\n"
          ]
        }
      ]
    },
    {
      "cell_type": "code",
      "source": [
        "pip install phonenumbers"
      ],
      "metadata": {
        "colab": {
          "base_uri": "https://localhost:8080/"
        },
        "id": "aUOdpGTaTXlv",
        "outputId": "84ec6667-0bcf-4376-aaa5-15fd9ed55c1a"
      },
      "execution_count": null,
      "outputs": [
        {
          "output_type": "stream",
          "name": "stdout",
          "text": [
            "Looking in indexes: https://pypi.org/simple, https://us-python.pkg.dev/colab-wheels/public/simple/\n",
            "Requirement already satisfied: phonenumbers in /usr/local/lib/python3.7/dist-packages (8.12.51)\n"
          ]
        }
      ]
    },
    {
      "cell_type": "code",
      "execution_count": null,
      "metadata": {
        "id": "-KNbiJx8tOcL"
      },
      "outputs": [],
      "source": [
        "from urllib import response\n",
        "import requests\n",
        "import sys\n",
        "import base64\n",
        "import json\n",
        "from bs4 import BeautifulSoup\n",
        "import pandas as pd\n",
        "import numpy as np\n",
        "from phonenumbers import parse, geocoder\n",
        "\n",
        "\n",
        "\n",
        "urlforallindicatif = 'https://countrycode.org/'\n",
        "page = requests.get(urlforallindicatif)\n",
        "soup = BeautifulSoup(page.text, 'lxml')\n",
        "\n",
        "\n",
        "\n",
        "\n",
        "# Replace the values here.\n",
        "INSTANCE_URL = \"https://api.maytapi.com/api\"\n",
        "PRODUCT_ID = \"c4c75738-72e8-48fe-bc3e-597a5cc4f19a\"\n",
        "PHONE_ID = \"21488\"\n",
        "API_TOKEN = \"05378760-772b-426e-b684-7f835eb40601\"\n",
        "\n",
        "def AllnumberData():\n",
        "    url = INSTANCE_URL + \"/\" + PRODUCT_ID + \"/\" + PHONE_ID + \"/getGroups?full=true\"\n",
        "    payload = {}\n",
        "    headers = {\n",
        "        \"Content-Type\": \"application/json\",\n",
        "        \"x-maytapi-key\": API_TOKEN,\n",
        "    }\n",
        "    r = requests.request('GET', url, headers=headers, data=payload)\n",
        "    tjson = r.json()\n",
        "    pData = tjson[\"data\"]\n",
        "    pSuccess = tjson[\"success\"]\n",
        "    return pData\n",
        "\n"
      ]
    },
    {
      "cell_type": "code",
      "source": [
        "data = AllnumberData()\n",
        "dataparticipants = []\n",
        "for el in data:\n",
        "    if 'Real Pro DataScience' in el['name']:\n",
        "        dataparticipants=el['participants'].copy()\n"
      ],
      "metadata": {
        "id": "-yalHcXhuPm6"
      },
      "execution_count": null,
      "outputs": []
    },
    {
      "cell_type": "code",
      "source": [
        "numbers = []\n",
        "country_code = []\n",
        "\n",
        "for el in dataparticipants:\n",
        "    ch_number = parse('+'+str(el).partition('@')[0], \"CH\")\n",
        "    #pays = geocoder.description_for_number(ch_number, \"en\")\n",
        "    numbers.append(ch_number.country_code)\n",
        "    country_code.append(ch_number.national_number)\n",
        "    #country.append(pays)\n",
        "dico = zip(numbers,country_code)"
      ],
      "metadata": {
        "id": "whyHc3tlSdcq"
      },
      "execution_count": null,
      "outputs": []
    },
    {
      "cell_type": "code",
      "source": [
        "dico = list(dico)"
      ],
      "metadata": {
        "id": "odT6mbGuctoI"
      },
      "execution_count": null,
      "outputs": []
    },
    {
      "cell_type": "code",
      "source": [
        "table1=soup.find('table',class_=\"table\")"
      ],
      "metadata": {
        "id": "4QY-dXVTzjfT"
      },
      "execution_count": null,
      "outputs": []
    },
    {
      "cell_type": "code",
      "source": [
        "# Obtain every title of columns with tag <th>\n",
        "headers = []\n",
        "for i in table1.find_all('th'):\n",
        " title = i.text.replace(' ','').replace('\\n','')\n",
        " headers.append(title)"
      ],
      "metadata": {
        "id": "ADrSVCch2aAT"
      },
      "execution_count": null,
      "outputs": []
    },
    {
      "cell_type": "code",
      "source": [
        "headers"
      ],
      "metadata": {
        "id": "dKNQ0VM94LOk",
        "colab": {
          "base_uri": "https://localhost:8080/"
        },
        "outputId": "dd0c6a74-eac9-4226-a789-55b5044ef7d5"
      },
      "execution_count": null,
      "outputs": [
        {
          "output_type": "execute_result",
          "data": {
            "text/plain": [
              "['COUNTRY', 'COUNTRYCODE', 'ISOCODES', 'POPULATION', 'AREAKM2', 'GDP$USD']"
            ]
          },
          "metadata": {},
          "execution_count": 225
        }
      ]
    },
    {
      "cell_type": "code",
      "source": [
        "allindicatif = pd.DataFrame(columns = headers)"
      ],
      "metadata": {
        "id": "d1eSMePh4wF4"
      },
      "execution_count": null,
      "outputs": []
    },
    {
      "cell_type": "code",
      "source": [
        "for j in table1.find_all('tr')[1:]:\n",
        " row_data = j.find_all('td')\n",
        " row = [i.text for i in row_data]\n",
        " length = len(allindicatif)\n",
        " allindicatif.loc[length] = row"
      ],
      "metadata": {
        "id": "3uBN1scH5Hr-"
      },
      "execution_count": null,
      "outputs": []
    },
    {
      "cell_type": "code",
      "source": [
        "allindicatif['COUNTRY'] = allindicatif['COUNTRY'].astype(str)\n",
        "allindicatif['COUNTRYCODE'] = allindicatif['COUNTRYCODE'].astype(str)"
      ],
      "metadata": {
        "id": "qqQ8eBPUjkEK"
      },
      "execution_count": null,
      "outputs": []
    },
    {
      "cell_type": "code",
      "source": [
        "allindicatif"
      ],
      "metadata": {
        "id": "ECz7dML05h67",
        "colab": {
          "base_uri": "https://localhost:8080/",
          "height": 424
        },
        "outputId": "4162ac80-1823-4f20-8d4c-20efb55d5128"
      },
      "execution_count": null,
      "outputs": [
        {
          "output_type": "execute_result",
          "data": {
            "text/plain": [
              "               COUNTRY COUNTRYCODE  ISOCODES  POPULATION    AREAKM2  \\\n",
              "0          Afghanistan          93  AF / AFG  29,121,286    647,500   \n",
              "1              Albania         355  AL / ALB   2,986,952     28,748   \n",
              "2              Algeria         213  DZ / DZA  34,586,184  2,381,740   \n",
              "3       American Samoa       1-684  AS / ASM      57,881        199   \n",
              "4              Andorra         376  AD / AND      84,000        468   \n",
              "..                 ...         ...       ...         ...        ...   \n",
              "235  Wallis and Futuna         681  WF / WLF      16,025        274   \n",
              "236     Western Sahara         212  EH / ESH     273,008    266,000   \n",
              "237              Yemen         967  YE / YEM  23,495,361    527,970   \n",
              "238             Zambia         260  ZM / ZMB  13,460,305    752,614   \n",
              "239           Zimbabwe         263  ZW / ZWE  11,651,858    390,580   \n",
              "\n",
              "           GDP$USD  \n",
              "0    20.65 Billion  \n",
              "1     12.8 Billion  \n",
              "2    215.7 Billion  \n",
              "3    462.2 Million  \n",
              "4      4.8 Billion  \n",
              "..             ...  \n",
              "235                 \n",
              "236                 \n",
              "237  43.89 Billion  \n",
              "238  22.24 Billion  \n",
              "239  10.48 Billion  \n",
              "\n",
              "[240 rows x 6 columns]"
            ],
            "text/html": [
              "\n",
              "  <div id=\"df-a262c6e6-7de0-4dfe-b383-74ae5f545abe\">\n",
              "    <div class=\"colab-df-container\">\n",
              "      <div>\n",
              "<style scoped>\n",
              "    .dataframe tbody tr th:only-of-type {\n",
              "        vertical-align: middle;\n",
              "    }\n",
              "\n",
              "    .dataframe tbody tr th {\n",
              "        vertical-align: top;\n",
              "    }\n",
              "\n",
              "    .dataframe thead th {\n",
              "        text-align: right;\n",
              "    }\n",
              "</style>\n",
              "<table border=\"1\" class=\"dataframe\">\n",
              "  <thead>\n",
              "    <tr style=\"text-align: right;\">\n",
              "      <th></th>\n",
              "      <th>COUNTRY</th>\n",
              "      <th>COUNTRYCODE</th>\n",
              "      <th>ISOCODES</th>\n",
              "      <th>POPULATION</th>\n",
              "      <th>AREAKM2</th>\n",
              "      <th>GDP$USD</th>\n",
              "    </tr>\n",
              "  </thead>\n",
              "  <tbody>\n",
              "    <tr>\n",
              "      <th>0</th>\n",
              "      <td>Afghanistan</td>\n",
              "      <td>93</td>\n",
              "      <td>AF / AFG</td>\n",
              "      <td>29,121,286</td>\n",
              "      <td>647,500</td>\n",
              "      <td>20.65 Billion</td>\n",
              "    </tr>\n",
              "    <tr>\n",
              "      <th>1</th>\n",
              "      <td>Albania</td>\n",
              "      <td>355</td>\n",
              "      <td>AL / ALB</td>\n",
              "      <td>2,986,952</td>\n",
              "      <td>28,748</td>\n",
              "      <td>12.8 Billion</td>\n",
              "    </tr>\n",
              "    <tr>\n",
              "      <th>2</th>\n",
              "      <td>Algeria</td>\n",
              "      <td>213</td>\n",
              "      <td>DZ / DZA</td>\n",
              "      <td>34,586,184</td>\n",
              "      <td>2,381,740</td>\n",
              "      <td>215.7 Billion</td>\n",
              "    </tr>\n",
              "    <tr>\n",
              "      <th>3</th>\n",
              "      <td>American Samoa</td>\n",
              "      <td>1-684</td>\n",
              "      <td>AS / ASM</td>\n",
              "      <td>57,881</td>\n",
              "      <td>199</td>\n",
              "      <td>462.2 Million</td>\n",
              "    </tr>\n",
              "    <tr>\n",
              "      <th>4</th>\n",
              "      <td>Andorra</td>\n",
              "      <td>376</td>\n",
              "      <td>AD / AND</td>\n",
              "      <td>84,000</td>\n",
              "      <td>468</td>\n",
              "      <td>4.8 Billion</td>\n",
              "    </tr>\n",
              "    <tr>\n",
              "      <th>...</th>\n",
              "      <td>...</td>\n",
              "      <td>...</td>\n",
              "      <td>...</td>\n",
              "      <td>...</td>\n",
              "      <td>...</td>\n",
              "      <td>...</td>\n",
              "    </tr>\n",
              "    <tr>\n",
              "      <th>235</th>\n",
              "      <td>Wallis and Futuna</td>\n",
              "      <td>681</td>\n",
              "      <td>WF / WLF</td>\n",
              "      <td>16,025</td>\n",
              "      <td>274</td>\n",
              "      <td></td>\n",
              "    </tr>\n",
              "    <tr>\n",
              "      <th>236</th>\n",
              "      <td>Western Sahara</td>\n",
              "      <td>212</td>\n",
              "      <td>EH / ESH</td>\n",
              "      <td>273,008</td>\n",
              "      <td>266,000</td>\n",
              "      <td></td>\n",
              "    </tr>\n",
              "    <tr>\n",
              "      <th>237</th>\n",
              "      <td>Yemen</td>\n",
              "      <td>967</td>\n",
              "      <td>YE / YEM</td>\n",
              "      <td>23,495,361</td>\n",
              "      <td>527,970</td>\n",
              "      <td>43.89 Billion</td>\n",
              "    </tr>\n",
              "    <tr>\n",
              "      <th>238</th>\n",
              "      <td>Zambia</td>\n",
              "      <td>260</td>\n",
              "      <td>ZM / ZMB</td>\n",
              "      <td>13,460,305</td>\n",
              "      <td>752,614</td>\n",
              "      <td>22.24 Billion</td>\n",
              "    </tr>\n",
              "    <tr>\n",
              "      <th>239</th>\n",
              "      <td>Zimbabwe</td>\n",
              "      <td>263</td>\n",
              "      <td>ZW / ZWE</td>\n",
              "      <td>11,651,858</td>\n",
              "      <td>390,580</td>\n",
              "      <td>10.48 Billion</td>\n",
              "    </tr>\n",
              "  </tbody>\n",
              "</table>\n",
              "<p>240 rows × 6 columns</p>\n",
              "</div>\n",
              "      <button class=\"colab-df-convert\" onclick=\"convertToInteractive('df-a262c6e6-7de0-4dfe-b383-74ae5f545abe')\"\n",
              "              title=\"Convert this dataframe to an interactive table.\"\n",
              "              style=\"display:none;\">\n",
              "        \n",
              "  <svg xmlns=\"http://www.w3.org/2000/svg\" height=\"24px\"viewBox=\"0 0 24 24\"\n",
              "       width=\"24px\">\n",
              "    <path d=\"M0 0h24v24H0V0z\" fill=\"none\"/>\n",
              "    <path d=\"M18.56 5.44l.94 2.06.94-2.06 2.06-.94-2.06-.94-.94-2.06-.94 2.06-2.06.94zm-11 1L8.5 8.5l.94-2.06 2.06-.94-2.06-.94L8.5 2.5l-.94 2.06-2.06.94zm10 10l.94 2.06.94-2.06 2.06-.94-2.06-.94-.94-2.06-.94 2.06-2.06.94z\"/><path d=\"M17.41 7.96l-1.37-1.37c-.4-.4-.92-.59-1.43-.59-.52 0-1.04.2-1.43.59L10.3 9.45l-7.72 7.72c-.78.78-.78 2.05 0 2.83L4 21.41c.39.39.9.59 1.41.59.51 0 1.02-.2 1.41-.59l7.78-7.78 2.81-2.81c.8-.78.8-2.07 0-2.86zM5.41 20L4 18.59l7.72-7.72 1.47 1.35L5.41 20z\"/>\n",
              "  </svg>\n",
              "      </button>\n",
              "      \n",
              "  <style>\n",
              "    .colab-df-container {\n",
              "      display:flex;\n",
              "      flex-wrap:wrap;\n",
              "      gap: 12px;\n",
              "    }\n",
              "\n",
              "    .colab-df-convert {\n",
              "      background-color: #E8F0FE;\n",
              "      border: none;\n",
              "      border-radius: 50%;\n",
              "      cursor: pointer;\n",
              "      display: none;\n",
              "      fill: #1967D2;\n",
              "      height: 32px;\n",
              "      padding: 0 0 0 0;\n",
              "      width: 32px;\n",
              "    }\n",
              "\n",
              "    .colab-df-convert:hover {\n",
              "      background-color: #E2EBFA;\n",
              "      box-shadow: 0px 1px 2px rgba(60, 64, 67, 0.3), 0px 1px 3px 1px rgba(60, 64, 67, 0.15);\n",
              "      fill: #174EA6;\n",
              "    }\n",
              "\n",
              "    [theme=dark] .colab-df-convert {\n",
              "      background-color: #3B4455;\n",
              "      fill: #D2E3FC;\n",
              "    }\n",
              "\n",
              "    [theme=dark] .colab-df-convert:hover {\n",
              "      background-color: #434B5C;\n",
              "      box-shadow: 0px 1px 3px 1px rgba(0, 0, 0, 0.15);\n",
              "      filter: drop-shadow(0px 1px 2px rgba(0, 0, 0, 0.3));\n",
              "      fill: #FFFFFF;\n",
              "    }\n",
              "  </style>\n",
              "\n",
              "      <script>\n",
              "        const buttonEl =\n",
              "          document.querySelector('#df-a262c6e6-7de0-4dfe-b383-74ae5f545abe button.colab-df-convert');\n",
              "        buttonEl.style.display =\n",
              "          google.colab.kernel.accessAllowed ? 'block' : 'none';\n",
              "\n",
              "        async function convertToInteractive(key) {\n",
              "          const element = document.querySelector('#df-a262c6e6-7de0-4dfe-b383-74ae5f545abe');\n",
              "          const dataTable =\n",
              "            await google.colab.kernel.invokeFunction('convertToInteractive',\n",
              "                                                     [key], {});\n",
              "          if (!dataTable) return;\n",
              "\n",
              "          const docLinkHtml = 'Like what you see? Visit the ' +\n",
              "            '<a target=\"_blank\" href=https://colab.research.google.com/notebooks/data_table.ipynb>data table notebook</a>'\n",
              "            + ' to learn more about interactive tables.';\n",
              "          element.innerHTML = '';\n",
              "          dataTable['output_type'] = 'display_data';\n",
              "          await google.colab.output.renderOutput(dataTable, element);\n",
              "          const docLink = document.createElement('div');\n",
              "          docLink.innerHTML = docLinkHtml;\n",
              "          element.appendChild(docLink);\n",
              "        }\n",
              "      </script>\n",
              "    </div>\n",
              "  </div>\n",
              "  "
            ]
          },
          "metadata": {},
          "execution_count": 229
        }
      ]
    },
    {
      "cell_type": "code",
      "source": [
        "listeofallcode = []\n",
        "for i in range(len(dico)):\n",
        "    listeofallcode.append(dico[i][0])\n"
      ],
      "metadata": {
        "id": "QW_XJXoi7CrN"
      },
      "execution_count": null,
      "outputs": []
    },
    {
      "cell_type": "code",
      "source": [
        "listeoccurence = []\n",
        "for code in listeofallcode:\n",
        "    DATA=allindicatif[allindicatif['COUNTRYCODE']==str(code)]\n",
        "    listeoccurence.append(DATA['COUNTRY'].tolist()[0])"
      ],
      "metadata": {
        "id": "gy8XrockiSQJ"
      },
      "execution_count": null,
      "outputs": []
    },
    {
      "cell_type": "code",
      "source": [
        "from collections import Counter\n",
        "\n",
        "Dataoccurence=Counter(listeoccurence)"
      ],
      "metadata": {
        "id": "4dmVhZpMl3CN"
      },
      "execution_count": null,
      "outputs": []
    },
    {
      "cell_type": "code",
      "source": [
        "datatrans=dict(Dataoccurence)"
      ],
      "metadata": {
        "id": "te7i3LjXmtgr"
      },
      "execution_count": null,
      "outputs": []
    },
    {
      "cell_type": "code",
      "source": [
        "from typing import Type\n",
        "DataPlot = pd.DataFrame(list(datatrans.items()),columns=['COUNTRY','PARTICIPANTS'])"
      ],
      "metadata": {
        "id": "D1HbOYG3m6G7"
      },
      "execution_count": null,
      "outputs": []
    },
    {
      "cell_type": "code",
      "source": [
        "result = pd.merge(DataPlot, allindicatif, how=\"inner\", on=[\"COUNTRY\"])"
      ],
      "metadata": {
        "id": "LR_fkRWfKiet"
      },
      "execution_count": null,
      "outputs": []
    },
    {
      "cell_type": "code",
      "source": [
        "result=result.rename(columns={'ISOCODES': 'ISO_ALPHA'})"
      ],
      "metadata": {
        "id": "efVEvVGLMY9c"
      },
      "execution_count": null,
      "outputs": []
    },
    {
      "cell_type": "code",
      "source": [
        "result.update({'ISO_ALPHA':list(map(lambda n: str(n[-3:]), result['ISO_ALPHA']))})"
      ],
      "metadata": {
        "id": "ChFW11foOHd_"
      },
      "execution_count": null,
      "outputs": []
    },
    {
      "cell_type": "code",
      "source": [
        "result"
      ],
      "metadata": {
        "colab": {
          "base_uri": "https://localhost:8080/",
          "height": 645
        },
        "id": "6k1KUqBfSVQP",
        "outputId": "4ee5f66d-779c-4303-c0f3-59e82f6af1cc"
      },
      "execution_count": null,
      "outputs": [
        {
          "output_type": "execute_result",
          "data": {
            "text/plain": [
              "                             COUNTRY  PARTICIPANTS COUNTRYCODE ISO_ALPHA  \\\n",
              "0                        Ivory Coast            24         225       CIV   \n",
              "1                             Canada             5           1       CAN   \n",
              "2                            Morocco             5         212       MAR   \n",
              "3                            Senegal            19         221       SEN   \n",
              "4                               Mali             2         223       MLI   \n",
              "5                             Guinea             1         224       GIN   \n",
              "6                       Burkina Faso            11         226       BFA   \n",
              "7                               Togo             3         228       TGO   \n",
              "8                              Benin            12         229       BEN   \n",
              "9                               Chad             1         235       TCD   \n",
              "10                          Cameroon             3         237       CMR   \n",
              "11                             Gabon             2         241       GAB   \n",
              "12             Republic of the Congo             2         242       COG   \n",
              "13  Democratic Republic of the Congo             1         243       COD   \n",
              "14                            Angola             1         244       AGO   \n",
              "15                            France            35          33       FRA   \n",
              "16                             Haiti             1         509       HTI   \n",
              "17                      Saudi Arabia             1         966       SAU   \n",
              "18              United Arab Emirates             1         971       ARE   \n",
              "\n",
              "    POPULATION    AREAKM2         GDP$USD  \n",
              "0   21,058,798    322,460   28.28 Billion  \n",
              "1   33,679,000  9,984,670  1.825 Trillion  \n",
              "2   31,627,428    446,550   104.8 Billion  \n",
              "3   12,323,252    196,190   15.36 Billion  \n",
              "4   13,796,354  1,240,000   11.37 Billion  \n",
              "5   10,324,025    245,857   6.544 Billion  \n",
              "6   16,241,811    274,200   12.13 Billion  \n",
              "7    6,587,239     56,785   4.299 Billion  \n",
              "8    9,056,010    112,620   8.359 Billion  \n",
              "9   10,543,464  1,284,000   13.59 Billion  \n",
              "10  19,294,149    475,440   27.88 Billion  \n",
              "11   1,545,255    267,667   19.97 Billion  \n",
              "12   3,039,126    342,000   14.25 Billion  \n",
              "13  70,916,439  2,345,410   18.56 Billion  \n",
              "14  13,068,161  1,246,700     124 Billion  \n",
              "15  64,768,389    547,030  2.739 Trillion  \n",
              "16   9,648,924     27,750   8.287 Billion  \n",
              "17  25,731,776  1,960,582   718.5 Billion  \n",
              "18   4,975,593     82,880     390 Billion  "
            ],
            "text/html": [
              "\n",
              "  <div id=\"df-8493b2d9-3455-48a4-bab1-f555c78e2275\">\n",
              "    <div class=\"colab-df-container\">\n",
              "      <div>\n",
              "<style scoped>\n",
              "    .dataframe tbody tr th:only-of-type {\n",
              "        vertical-align: middle;\n",
              "    }\n",
              "\n",
              "    .dataframe tbody tr th {\n",
              "        vertical-align: top;\n",
              "    }\n",
              "\n",
              "    .dataframe thead th {\n",
              "        text-align: right;\n",
              "    }\n",
              "</style>\n",
              "<table border=\"1\" class=\"dataframe\">\n",
              "  <thead>\n",
              "    <tr style=\"text-align: right;\">\n",
              "      <th></th>\n",
              "      <th>COUNTRY</th>\n",
              "      <th>PARTICIPANTS</th>\n",
              "      <th>COUNTRYCODE</th>\n",
              "      <th>ISO_ALPHA</th>\n",
              "      <th>POPULATION</th>\n",
              "      <th>AREAKM2</th>\n",
              "      <th>GDP$USD</th>\n",
              "    </tr>\n",
              "  </thead>\n",
              "  <tbody>\n",
              "    <tr>\n",
              "      <th>0</th>\n",
              "      <td>Ivory Coast</td>\n",
              "      <td>24</td>\n",
              "      <td>225</td>\n",
              "      <td>CIV</td>\n",
              "      <td>21,058,798</td>\n",
              "      <td>322,460</td>\n",
              "      <td>28.28 Billion</td>\n",
              "    </tr>\n",
              "    <tr>\n",
              "      <th>1</th>\n",
              "      <td>Canada</td>\n",
              "      <td>5</td>\n",
              "      <td>1</td>\n",
              "      <td>CAN</td>\n",
              "      <td>33,679,000</td>\n",
              "      <td>9,984,670</td>\n",
              "      <td>1.825 Trillion</td>\n",
              "    </tr>\n",
              "    <tr>\n",
              "      <th>2</th>\n",
              "      <td>Morocco</td>\n",
              "      <td>5</td>\n",
              "      <td>212</td>\n",
              "      <td>MAR</td>\n",
              "      <td>31,627,428</td>\n",
              "      <td>446,550</td>\n",
              "      <td>104.8 Billion</td>\n",
              "    </tr>\n",
              "    <tr>\n",
              "      <th>3</th>\n",
              "      <td>Senegal</td>\n",
              "      <td>19</td>\n",
              "      <td>221</td>\n",
              "      <td>SEN</td>\n",
              "      <td>12,323,252</td>\n",
              "      <td>196,190</td>\n",
              "      <td>15.36 Billion</td>\n",
              "    </tr>\n",
              "    <tr>\n",
              "      <th>4</th>\n",
              "      <td>Mali</td>\n",
              "      <td>2</td>\n",
              "      <td>223</td>\n",
              "      <td>MLI</td>\n",
              "      <td>13,796,354</td>\n",
              "      <td>1,240,000</td>\n",
              "      <td>11.37 Billion</td>\n",
              "    </tr>\n",
              "    <tr>\n",
              "      <th>5</th>\n",
              "      <td>Guinea</td>\n",
              "      <td>1</td>\n",
              "      <td>224</td>\n",
              "      <td>GIN</td>\n",
              "      <td>10,324,025</td>\n",
              "      <td>245,857</td>\n",
              "      <td>6.544 Billion</td>\n",
              "    </tr>\n",
              "    <tr>\n",
              "      <th>6</th>\n",
              "      <td>Burkina Faso</td>\n",
              "      <td>11</td>\n",
              "      <td>226</td>\n",
              "      <td>BFA</td>\n",
              "      <td>16,241,811</td>\n",
              "      <td>274,200</td>\n",
              "      <td>12.13 Billion</td>\n",
              "    </tr>\n",
              "    <tr>\n",
              "      <th>7</th>\n",
              "      <td>Togo</td>\n",
              "      <td>3</td>\n",
              "      <td>228</td>\n",
              "      <td>TGO</td>\n",
              "      <td>6,587,239</td>\n",
              "      <td>56,785</td>\n",
              "      <td>4.299 Billion</td>\n",
              "    </tr>\n",
              "    <tr>\n",
              "      <th>8</th>\n",
              "      <td>Benin</td>\n",
              "      <td>12</td>\n",
              "      <td>229</td>\n",
              "      <td>BEN</td>\n",
              "      <td>9,056,010</td>\n",
              "      <td>112,620</td>\n",
              "      <td>8.359 Billion</td>\n",
              "    </tr>\n",
              "    <tr>\n",
              "      <th>9</th>\n",
              "      <td>Chad</td>\n",
              "      <td>1</td>\n",
              "      <td>235</td>\n",
              "      <td>TCD</td>\n",
              "      <td>10,543,464</td>\n",
              "      <td>1,284,000</td>\n",
              "      <td>13.59 Billion</td>\n",
              "    </tr>\n",
              "    <tr>\n",
              "      <th>10</th>\n",
              "      <td>Cameroon</td>\n",
              "      <td>3</td>\n",
              "      <td>237</td>\n",
              "      <td>CMR</td>\n",
              "      <td>19,294,149</td>\n",
              "      <td>475,440</td>\n",
              "      <td>27.88 Billion</td>\n",
              "    </tr>\n",
              "    <tr>\n",
              "      <th>11</th>\n",
              "      <td>Gabon</td>\n",
              "      <td>2</td>\n",
              "      <td>241</td>\n",
              "      <td>GAB</td>\n",
              "      <td>1,545,255</td>\n",
              "      <td>267,667</td>\n",
              "      <td>19.97 Billion</td>\n",
              "    </tr>\n",
              "    <tr>\n",
              "      <th>12</th>\n",
              "      <td>Republic of the Congo</td>\n",
              "      <td>2</td>\n",
              "      <td>242</td>\n",
              "      <td>COG</td>\n",
              "      <td>3,039,126</td>\n",
              "      <td>342,000</td>\n",
              "      <td>14.25 Billion</td>\n",
              "    </tr>\n",
              "    <tr>\n",
              "      <th>13</th>\n",
              "      <td>Democratic Republic of the Congo</td>\n",
              "      <td>1</td>\n",
              "      <td>243</td>\n",
              "      <td>COD</td>\n",
              "      <td>70,916,439</td>\n",
              "      <td>2,345,410</td>\n",
              "      <td>18.56 Billion</td>\n",
              "    </tr>\n",
              "    <tr>\n",
              "      <th>14</th>\n",
              "      <td>Angola</td>\n",
              "      <td>1</td>\n",
              "      <td>244</td>\n",
              "      <td>AGO</td>\n",
              "      <td>13,068,161</td>\n",
              "      <td>1,246,700</td>\n",
              "      <td>124 Billion</td>\n",
              "    </tr>\n",
              "    <tr>\n",
              "      <th>15</th>\n",
              "      <td>France</td>\n",
              "      <td>35</td>\n",
              "      <td>33</td>\n",
              "      <td>FRA</td>\n",
              "      <td>64,768,389</td>\n",
              "      <td>547,030</td>\n",
              "      <td>2.739 Trillion</td>\n",
              "    </tr>\n",
              "    <tr>\n",
              "      <th>16</th>\n",
              "      <td>Haiti</td>\n",
              "      <td>1</td>\n",
              "      <td>509</td>\n",
              "      <td>HTI</td>\n",
              "      <td>9,648,924</td>\n",
              "      <td>27,750</td>\n",
              "      <td>8.287 Billion</td>\n",
              "    </tr>\n",
              "    <tr>\n",
              "      <th>17</th>\n",
              "      <td>Saudi Arabia</td>\n",
              "      <td>1</td>\n",
              "      <td>966</td>\n",
              "      <td>SAU</td>\n",
              "      <td>25,731,776</td>\n",
              "      <td>1,960,582</td>\n",
              "      <td>718.5 Billion</td>\n",
              "    </tr>\n",
              "    <tr>\n",
              "      <th>18</th>\n",
              "      <td>United Arab Emirates</td>\n",
              "      <td>1</td>\n",
              "      <td>971</td>\n",
              "      <td>ARE</td>\n",
              "      <td>4,975,593</td>\n",
              "      <td>82,880</td>\n",
              "      <td>390 Billion</td>\n",
              "    </tr>\n",
              "  </tbody>\n",
              "</table>\n",
              "</div>\n",
              "      <button class=\"colab-df-convert\" onclick=\"convertToInteractive('df-8493b2d9-3455-48a4-bab1-f555c78e2275')\"\n",
              "              title=\"Convert this dataframe to an interactive table.\"\n",
              "              style=\"display:none;\">\n",
              "        \n",
              "  <svg xmlns=\"http://www.w3.org/2000/svg\" height=\"24px\"viewBox=\"0 0 24 24\"\n",
              "       width=\"24px\">\n",
              "    <path d=\"M0 0h24v24H0V0z\" fill=\"none\"/>\n",
              "    <path d=\"M18.56 5.44l.94 2.06.94-2.06 2.06-.94-2.06-.94-.94-2.06-.94 2.06-2.06.94zm-11 1L8.5 8.5l.94-2.06 2.06-.94-2.06-.94L8.5 2.5l-.94 2.06-2.06.94zm10 10l.94 2.06.94-2.06 2.06-.94-2.06-.94-.94-2.06-.94 2.06-2.06.94z\"/><path d=\"M17.41 7.96l-1.37-1.37c-.4-.4-.92-.59-1.43-.59-.52 0-1.04.2-1.43.59L10.3 9.45l-7.72 7.72c-.78.78-.78 2.05 0 2.83L4 21.41c.39.39.9.59 1.41.59.51 0 1.02-.2 1.41-.59l7.78-7.78 2.81-2.81c.8-.78.8-2.07 0-2.86zM5.41 20L4 18.59l7.72-7.72 1.47 1.35L5.41 20z\"/>\n",
              "  </svg>\n",
              "      </button>\n",
              "      \n",
              "  <style>\n",
              "    .colab-df-container {\n",
              "      display:flex;\n",
              "      flex-wrap:wrap;\n",
              "      gap: 12px;\n",
              "    }\n",
              "\n",
              "    .colab-df-convert {\n",
              "      background-color: #E8F0FE;\n",
              "      border: none;\n",
              "      border-radius: 50%;\n",
              "      cursor: pointer;\n",
              "      display: none;\n",
              "      fill: #1967D2;\n",
              "      height: 32px;\n",
              "      padding: 0 0 0 0;\n",
              "      width: 32px;\n",
              "    }\n",
              "\n",
              "    .colab-df-convert:hover {\n",
              "      background-color: #E2EBFA;\n",
              "      box-shadow: 0px 1px 2px rgba(60, 64, 67, 0.3), 0px 1px 3px 1px rgba(60, 64, 67, 0.15);\n",
              "      fill: #174EA6;\n",
              "    }\n",
              "\n",
              "    [theme=dark] .colab-df-convert {\n",
              "      background-color: #3B4455;\n",
              "      fill: #D2E3FC;\n",
              "    }\n",
              "\n",
              "    [theme=dark] .colab-df-convert:hover {\n",
              "      background-color: #434B5C;\n",
              "      box-shadow: 0px 1px 3px 1px rgba(0, 0, 0, 0.15);\n",
              "      filter: drop-shadow(0px 1px 2px rgba(0, 0, 0, 0.3));\n",
              "      fill: #FFFFFF;\n",
              "    }\n",
              "  </style>\n",
              "\n",
              "      <script>\n",
              "        const buttonEl =\n",
              "          document.querySelector('#df-8493b2d9-3455-48a4-bab1-f555c78e2275 button.colab-df-convert');\n",
              "        buttonEl.style.display =\n",
              "          google.colab.kernel.accessAllowed ? 'block' : 'none';\n",
              "\n",
              "        async function convertToInteractive(key) {\n",
              "          const element = document.querySelector('#df-8493b2d9-3455-48a4-bab1-f555c78e2275');\n",
              "          const dataTable =\n",
              "            await google.colab.kernel.invokeFunction('convertToInteractive',\n",
              "                                                     [key], {});\n",
              "          if (!dataTable) return;\n",
              "\n",
              "          const docLinkHtml = 'Like what you see? Visit the ' +\n",
              "            '<a target=\"_blank\" href=https://colab.research.google.com/notebooks/data_table.ipynb>data table notebook</a>'\n",
              "            + ' to learn more about interactive tables.';\n",
              "          element.innerHTML = '';\n",
              "          dataTable['output_type'] = 'display_data';\n",
              "          await google.colab.output.renderOutput(dataTable, element);\n",
              "          const docLink = document.createElement('div');\n",
              "          docLink.innerHTML = docLinkHtml;\n",
              "          element.appendChild(docLink);\n",
              "        }\n",
              "      </script>\n",
              "    </div>\n",
              "  </div>\n",
              "  "
            ]
          },
          "metadata": {},
          "execution_count": 238
        }
      ]
    },
    {
      "cell_type": "code",
      "source": [
        "import plotly.express as px\n",
        "fig = px.scatter_geo(result,locations=\"ISO_ALPHA\", color=\"COUNTRY\", hover_name=\"COUNTRY\", size=\"PARTICIPANTS\",text=\"PARTICIPANTS\")\n",
        "fig.update_geos(\n",
        "    showcountries=True, countrycolor=\"White\",\n",
        "    showsubunits=True, subunitcolor=\"Blue\",\n",
        ")\n",
        "fig.update_traces(textposition='top center')\n",
        "fig.update_layout(height=800,title_text='PARTICIPANTS BY COUNTRY IN THE TRAINING SECTION REAL PRO DATA')\n",
        "fig.show()"
      ],
      "metadata": {
        "id": "TB2iaMyjweek",
        "colab": {
          "base_uri": "https://localhost:8080/",
          "height": 817
        },
        "outputId": "9580fb55-9300-42f0-aece-f184bfeb8f08"
      },
      "execution_count": null,
      "outputs": [
        {
          "output_type": "display_data",
          "data": {
            "text/html": [
              "<html>\n",
              "<head><meta charset=\"utf-8\" /></head>\n",
              "<body>\n",
              "    <div>            <script src=\"https://cdnjs.cloudflare.com/ajax/libs/mathjax/2.7.5/MathJax.js?config=TeX-AMS-MML_SVG\"></script><script type=\"text/javascript\">if (window.MathJax) {MathJax.Hub.Config({SVG: {font: \"STIX-Web\"}});}</script>                <script type=\"text/javascript\">window.PlotlyConfig = {MathJaxConfig: 'local'};</script>\n",
              "        <script src=\"https://cdn.plot.ly/plotly-2.8.3.min.js\"></script>                <div id=\"486449bb-a51c-4267-a677-559dcbb6009e\" class=\"plotly-graph-div\" style=\"height:800px; width:100%;\"></div>            <script type=\"text/javascript\">                                    window.PLOTLYENV=window.PLOTLYENV || {};                                    if (document.getElementById(\"486449bb-a51c-4267-a677-559dcbb6009e\")) {                    Plotly.newPlot(                        \"486449bb-a51c-4267-a677-559dcbb6009e\",                        [{\"geo\":\"geo\",\"hovertemplate\":\"<b>%{hovertext}</b><br><br>COUNTRY=Ivory Coast<br>PARTICIPANTS=%{text}<br>ISO_ALPHA=%{location}<extra></extra>\",\"hovertext\":[\"Ivory Coast\"],\"legendgroup\":\"Ivory Coast\",\"locations\":[\"CIV\"],\"marker\":{\"color\":\"#636efa\",\"size\":[24],\"sizemode\":\"area\",\"sizeref\":0.0875,\"symbol\":\"circle\"},\"mode\":\"markers+text\",\"name\":\"Ivory Coast\",\"showlegend\":true,\"text\":[24.0],\"type\":\"scattergeo\",\"textposition\":\"top center\"},{\"geo\":\"geo\",\"hovertemplate\":\"<b>%{hovertext}</b><br><br>COUNTRY=Canada<br>PARTICIPANTS=%{text}<br>ISO_ALPHA=%{location}<extra></extra>\",\"hovertext\":[\"Canada\"],\"legendgroup\":\"Canada\",\"locations\":[\"CAN\"],\"marker\":{\"color\":\"#EF553B\",\"size\":[5],\"sizemode\":\"area\",\"sizeref\":0.0875,\"symbol\":\"circle\"},\"mode\":\"markers+text\",\"name\":\"Canada\",\"showlegend\":true,\"text\":[5.0],\"type\":\"scattergeo\",\"textposition\":\"top center\"},{\"geo\":\"geo\",\"hovertemplate\":\"<b>%{hovertext}</b><br><br>COUNTRY=Morocco<br>PARTICIPANTS=%{text}<br>ISO_ALPHA=%{location}<extra></extra>\",\"hovertext\":[\"Morocco\"],\"legendgroup\":\"Morocco\",\"locations\":[\"MAR\"],\"marker\":{\"color\":\"#00cc96\",\"size\":[5],\"sizemode\":\"area\",\"sizeref\":0.0875,\"symbol\":\"circle\"},\"mode\":\"markers+text\",\"name\":\"Morocco\",\"showlegend\":true,\"text\":[5.0],\"type\":\"scattergeo\",\"textposition\":\"top center\"},{\"geo\":\"geo\",\"hovertemplate\":\"<b>%{hovertext}</b><br><br>COUNTRY=Senegal<br>PARTICIPANTS=%{text}<br>ISO_ALPHA=%{location}<extra></extra>\",\"hovertext\":[\"Senegal\"],\"legendgroup\":\"Senegal\",\"locations\":[\"SEN\"],\"marker\":{\"color\":\"#ab63fa\",\"size\":[19],\"sizemode\":\"area\",\"sizeref\":0.0875,\"symbol\":\"circle\"},\"mode\":\"markers+text\",\"name\":\"Senegal\",\"showlegend\":true,\"text\":[19.0],\"type\":\"scattergeo\",\"textposition\":\"top center\"},{\"geo\":\"geo\",\"hovertemplate\":\"<b>%{hovertext}</b><br><br>COUNTRY=Mali<br>PARTICIPANTS=%{text}<br>ISO_ALPHA=%{location}<extra></extra>\",\"hovertext\":[\"Mali\"],\"legendgroup\":\"Mali\",\"locations\":[\"MLI\"],\"marker\":{\"color\":\"#FFA15A\",\"size\":[2],\"sizemode\":\"area\",\"sizeref\":0.0875,\"symbol\":\"circle\"},\"mode\":\"markers+text\",\"name\":\"Mali\",\"showlegend\":true,\"text\":[2.0],\"type\":\"scattergeo\",\"textposition\":\"top center\"},{\"geo\":\"geo\",\"hovertemplate\":\"<b>%{hovertext}</b><br><br>COUNTRY=Guinea<br>PARTICIPANTS=%{text}<br>ISO_ALPHA=%{location}<extra></extra>\",\"hovertext\":[\"Guinea\"],\"legendgroup\":\"Guinea\",\"locations\":[\"GIN\"],\"marker\":{\"color\":\"#19d3f3\",\"size\":[1],\"sizemode\":\"area\",\"sizeref\":0.0875,\"symbol\":\"circle\"},\"mode\":\"markers+text\",\"name\":\"Guinea\",\"showlegend\":true,\"text\":[1.0],\"type\":\"scattergeo\",\"textposition\":\"top center\"},{\"geo\":\"geo\",\"hovertemplate\":\"<b>%{hovertext}</b><br><br>COUNTRY=Burkina Faso<br>PARTICIPANTS=%{text}<br>ISO_ALPHA=%{location}<extra></extra>\",\"hovertext\":[\"Burkina Faso\"],\"legendgroup\":\"Burkina Faso\",\"locations\":[\"BFA\"],\"marker\":{\"color\":\"#FF6692\",\"size\":[11],\"sizemode\":\"area\",\"sizeref\":0.0875,\"symbol\":\"circle\"},\"mode\":\"markers+text\",\"name\":\"Burkina Faso\",\"showlegend\":true,\"text\":[11.0],\"type\":\"scattergeo\",\"textposition\":\"top center\"},{\"geo\":\"geo\",\"hovertemplate\":\"<b>%{hovertext}</b><br><br>COUNTRY=Togo<br>PARTICIPANTS=%{text}<br>ISO_ALPHA=%{location}<extra></extra>\",\"hovertext\":[\"Togo\"],\"legendgroup\":\"Togo\",\"locations\":[\"TGO\"],\"marker\":{\"color\":\"#B6E880\",\"size\":[3],\"sizemode\":\"area\",\"sizeref\":0.0875,\"symbol\":\"circle\"},\"mode\":\"markers+text\",\"name\":\"Togo\",\"showlegend\":true,\"text\":[3.0],\"type\":\"scattergeo\",\"textposition\":\"top center\"},{\"geo\":\"geo\",\"hovertemplate\":\"<b>%{hovertext}</b><br><br>COUNTRY=Benin<br>PARTICIPANTS=%{text}<br>ISO_ALPHA=%{location}<extra></extra>\",\"hovertext\":[\"Benin\"],\"legendgroup\":\"Benin\",\"locations\":[\"BEN\"],\"marker\":{\"color\":\"#FF97FF\",\"size\":[12],\"sizemode\":\"area\",\"sizeref\":0.0875,\"symbol\":\"circle\"},\"mode\":\"markers+text\",\"name\":\"Benin\",\"showlegend\":true,\"text\":[12.0],\"type\":\"scattergeo\",\"textposition\":\"top center\"},{\"geo\":\"geo\",\"hovertemplate\":\"<b>%{hovertext}</b><br><br>COUNTRY=Chad<br>PARTICIPANTS=%{text}<br>ISO_ALPHA=%{location}<extra></extra>\",\"hovertext\":[\"Chad\"],\"legendgroup\":\"Chad\",\"locations\":[\"TCD\"],\"marker\":{\"color\":\"#FECB52\",\"size\":[1],\"sizemode\":\"area\",\"sizeref\":0.0875,\"symbol\":\"circle\"},\"mode\":\"markers+text\",\"name\":\"Chad\",\"showlegend\":true,\"text\":[1.0],\"type\":\"scattergeo\",\"textposition\":\"top center\"},{\"geo\":\"geo\",\"hovertemplate\":\"<b>%{hovertext}</b><br><br>COUNTRY=Cameroon<br>PARTICIPANTS=%{text}<br>ISO_ALPHA=%{location}<extra></extra>\",\"hovertext\":[\"Cameroon\"],\"legendgroup\":\"Cameroon\",\"locations\":[\"CMR\"],\"marker\":{\"color\":\"#636efa\",\"size\":[3],\"sizemode\":\"area\",\"sizeref\":0.0875,\"symbol\":\"circle\"},\"mode\":\"markers+text\",\"name\":\"Cameroon\",\"showlegend\":true,\"text\":[3.0],\"type\":\"scattergeo\",\"textposition\":\"top center\"},{\"geo\":\"geo\",\"hovertemplate\":\"<b>%{hovertext}</b><br><br>COUNTRY=Gabon<br>PARTICIPANTS=%{text}<br>ISO_ALPHA=%{location}<extra></extra>\",\"hovertext\":[\"Gabon\"],\"legendgroup\":\"Gabon\",\"locations\":[\"GAB\"],\"marker\":{\"color\":\"#EF553B\",\"size\":[2],\"sizemode\":\"area\",\"sizeref\":0.0875,\"symbol\":\"circle\"},\"mode\":\"markers+text\",\"name\":\"Gabon\",\"showlegend\":true,\"text\":[2.0],\"type\":\"scattergeo\",\"textposition\":\"top center\"},{\"geo\":\"geo\",\"hovertemplate\":\"<b>%{hovertext}</b><br><br>COUNTRY=Republic of the Congo<br>PARTICIPANTS=%{text}<br>ISO_ALPHA=%{location}<extra></extra>\",\"hovertext\":[\"Republic of the Congo\"],\"legendgroup\":\"Republic of the Congo\",\"locations\":[\"COG\"],\"marker\":{\"color\":\"#00cc96\",\"size\":[2],\"sizemode\":\"area\",\"sizeref\":0.0875,\"symbol\":\"circle\"},\"mode\":\"markers+text\",\"name\":\"Republic of the Congo\",\"showlegend\":true,\"text\":[2.0],\"type\":\"scattergeo\",\"textposition\":\"top center\"},{\"geo\":\"geo\",\"hovertemplate\":\"<b>%{hovertext}</b><br><br>COUNTRY=Democratic Republic of the Congo<br>PARTICIPANTS=%{text}<br>ISO_ALPHA=%{location}<extra></extra>\",\"hovertext\":[\"Democratic Republic of the Congo\"],\"legendgroup\":\"Democratic Republic of the Congo\",\"locations\":[\"COD\"],\"marker\":{\"color\":\"#ab63fa\",\"size\":[1],\"sizemode\":\"area\",\"sizeref\":0.0875,\"symbol\":\"circle\"},\"mode\":\"markers+text\",\"name\":\"Democratic Republic of the Congo\",\"showlegend\":true,\"text\":[1.0],\"type\":\"scattergeo\",\"textposition\":\"top center\"},{\"geo\":\"geo\",\"hovertemplate\":\"<b>%{hovertext}</b><br><br>COUNTRY=Angola<br>PARTICIPANTS=%{text}<br>ISO_ALPHA=%{location}<extra></extra>\",\"hovertext\":[\"Angola\"],\"legendgroup\":\"Angola\",\"locations\":[\"AGO\"],\"marker\":{\"color\":\"#FFA15A\",\"size\":[1],\"sizemode\":\"area\",\"sizeref\":0.0875,\"symbol\":\"circle\"},\"mode\":\"markers+text\",\"name\":\"Angola\",\"showlegend\":true,\"text\":[1.0],\"type\":\"scattergeo\",\"textposition\":\"top center\"},{\"geo\":\"geo\",\"hovertemplate\":\"<b>%{hovertext}</b><br><br>COUNTRY=France<br>PARTICIPANTS=%{text}<br>ISO_ALPHA=%{location}<extra></extra>\",\"hovertext\":[\"France\"],\"legendgroup\":\"France\",\"locations\":[\"FRA\"],\"marker\":{\"color\":\"#19d3f3\",\"size\":[35],\"sizemode\":\"area\",\"sizeref\":0.0875,\"symbol\":\"circle\"},\"mode\":\"markers+text\",\"name\":\"France\",\"showlegend\":true,\"text\":[35.0],\"type\":\"scattergeo\",\"textposition\":\"top center\"},{\"geo\":\"geo\",\"hovertemplate\":\"<b>%{hovertext}</b><br><br>COUNTRY=Haiti<br>PARTICIPANTS=%{text}<br>ISO_ALPHA=%{location}<extra></extra>\",\"hovertext\":[\"Haiti\"],\"legendgroup\":\"Haiti\",\"locations\":[\"HTI\"],\"marker\":{\"color\":\"#FF6692\",\"size\":[1],\"sizemode\":\"area\",\"sizeref\":0.0875,\"symbol\":\"circle\"},\"mode\":\"markers+text\",\"name\":\"Haiti\",\"showlegend\":true,\"text\":[1.0],\"type\":\"scattergeo\",\"textposition\":\"top center\"},{\"geo\":\"geo\",\"hovertemplate\":\"<b>%{hovertext}</b><br><br>COUNTRY=Saudi Arabia<br>PARTICIPANTS=%{text}<br>ISO_ALPHA=%{location}<extra></extra>\",\"hovertext\":[\"Saudi Arabia\"],\"legendgroup\":\"Saudi Arabia\",\"locations\":[\"SAU\"],\"marker\":{\"color\":\"#B6E880\",\"size\":[1],\"sizemode\":\"area\",\"sizeref\":0.0875,\"symbol\":\"circle\"},\"mode\":\"markers+text\",\"name\":\"Saudi Arabia\",\"showlegend\":true,\"text\":[1.0],\"type\":\"scattergeo\",\"textposition\":\"top center\"},{\"geo\":\"geo\",\"hovertemplate\":\"<b>%{hovertext}</b><br><br>COUNTRY=United Arab Emirates<br>PARTICIPANTS=%{text}<br>ISO_ALPHA=%{location}<extra></extra>\",\"hovertext\":[\"United Arab Emirates\"],\"legendgroup\":\"United Arab Emirates\",\"locations\":[\"ARE\"],\"marker\":{\"color\":\"#FF97FF\",\"size\":[1],\"sizemode\":\"area\",\"sizeref\":0.0875,\"symbol\":\"circle\"},\"mode\":\"markers+text\",\"name\":\"United Arab Emirates\",\"showlegend\":true,\"text\":[1.0],\"type\":\"scattergeo\",\"textposition\":\"top center\"}],                        {\"template\":{\"data\":{\"bar\":[{\"error_x\":{\"color\":\"#2a3f5f\"},\"error_y\":{\"color\":\"#2a3f5f\"},\"marker\":{\"line\":{\"color\":\"#E5ECF6\",\"width\":0.5},\"pattern\":{\"fillmode\":\"overlay\",\"size\":10,\"solidity\":0.2}},\"type\":\"bar\"}],\"barpolar\":[{\"marker\":{\"line\":{\"color\":\"#E5ECF6\",\"width\":0.5},\"pattern\":{\"fillmode\":\"overlay\",\"size\":10,\"solidity\":0.2}},\"type\":\"barpolar\"}],\"carpet\":[{\"aaxis\":{\"endlinecolor\":\"#2a3f5f\",\"gridcolor\":\"white\",\"linecolor\":\"white\",\"minorgridcolor\":\"white\",\"startlinecolor\":\"#2a3f5f\"},\"baxis\":{\"endlinecolor\":\"#2a3f5f\",\"gridcolor\":\"white\",\"linecolor\":\"white\",\"minorgridcolor\":\"white\",\"startlinecolor\":\"#2a3f5f\"},\"type\":\"carpet\"}],\"choropleth\":[{\"colorbar\":{\"outlinewidth\":0,\"ticks\":\"\"},\"type\":\"choropleth\"}],\"contour\":[{\"colorbar\":{\"outlinewidth\":0,\"ticks\":\"\"},\"colorscale\":[[0.0,\"#0d0887\"],[0.1111111111111111,\"#46039f\"],[0.2222222222222222,\"#7201a8\"],[0.3333333333333333,\"#9c179e\"],[0.4444444444444444,\"#bd3786\"],[0.5555555555555556,\"#d8576b\"],[0.6666666666666666,\"#ed7953\"],[0.7777777777777778,\"#fb9f3a\"],[0.8888888888888888,\"#fdca26\"],[1.0,\"#f0f921\"]],\"type\":\"contour\"}],\"contourcarpet\":[{\"colorbar\":{\"outlinewidth\":0,\"ticks\":\"\"},\"type\":\"contourcarpet\"}],\"heatmap\":[{\"colorbar\":{\"outlinewidth\":0,\"ticks\":\"\"},\"colorscale\":[[0.0,\"#0d0887\"],[0.1111111111111111,\"#46039f\"],[0.2222222222222222,\"#7201a8\"],[0.3333333333333333,\"#9c179e\"],[0.4444444444444444,\"#bd3786\"],[0.5555555555555556,\"#d8576b\"],[0.6666666666666666,\"#ed7953\"],[0.7777777777777778,\"#fb9f3a\"],[0.8888888888888888,\"#fdca26\"],[1.0,\"#f0f921\"]],\"type\":\"heatmap\"}],\"heatmapgl\":[{\"colorbar\":{\"outlinewidth\":0,\"ticks\":\"\"},\"colorscale\":[[0.0,\"#0d0887\"],[0.1111111111111111,\"#46039f\"],[0.2222222222222222,\"#7201a8\"],[0.3333333333333333,\"#9c179e\"],[0.4444444444444444,\"#bd3786\"],[0.5555555555555556,\"#d8576b\"],[0.6666666666666666,\"#ed7953\"],[0.7777777777777778,\"#fb9f3a\"],[0.8888888888888888,\"#fdca26\"],[1.0,\"#f0f921\"]],\"type\":\"heatmapgl\"}],\"histogram\":[{\"marker\":{\"pattern\":{\"fillmode\":\"overlay\",\"size\":10,\"solidity\":0.2}},\"type\":\"histogram\"}],\"histogram2d\":[{\"colorbar\":{\"outlinewidth\":0,\"ticks\":\"\"},\"colorscale\":[[0.0,\"#0d0887\"],[0.1111111111111111,\"#46039f\"],[0.2222222222222222,\"#7201a8\"],[0.3333333333333333,\"#9c179e\"],[0.4444444444444444,\"#bd3786\"],[0.5555555555555556,\"#d8576b\"],[0.6666666666666666,\"#ed7953\"],[0.7777777777777778,\"#fb9f3a\"],[0.8888888888888888,\"#fdca26\"],[1.0,\"#f0f921\"]],\"type\":\"histogram2d\"}],\"histogram2dcontour\":[{\"colorbar\":{\"outlinewidth\":0,\"ticks\":\"\"},\"colorscale\":[[0.0,\"#0d0887\"],[0.1111111111111111,\"#46039f\"],[0.2222222222222222,\"#7201a8\"],[0.3333333333333333,\"#9c179e\"],[0.4444444444444444,\"#bd3786\"],[0.5555555555555556,\"#d8576b\"],[0.6666666666666666,\"#ed7953\"],[0.7777777777777778,\"#fb9f3a\"],[0.8888888888888888,\"#fdca26\"],[1.0,\"#f0f921\"]],\"type\":\"histogram2dcontour\"}],\"mesh3d\":[{\"colorbar\":{\"outlinewidth\":0,\"ticks\":\"\"},\"type\":\"mesh3d\"}],\"parcoords\":[{\"line\":{\"colorbar\":{\"outlinewidth\":0,\"ticks\":\"\"}},\"type\":\"parcoords\"}],\"pie\":[{\"automargin\":true,\"type\":\"pie\"}],\"scatter\":[{\"marker\":{\"colorbar\":{\"outlinewidth\":0,\"ticks\":\"\"}},\"type\":\"scatter\"}],\"scatter3d\":[{\"line\":{\"colorbar\":{\"outlinewidth\":0,\"ticks\":\"\"}},\"marker\":{\"colorbar\":{\"outlinewidth\":0,\"ticks\":\"\"}},\"type\":\"scatter3d\"}],\"scattercarpet\":[{\"marker\":{\"colorbar\":{\"outlinewidth\":0,\"ticks\":\"\"}},\"type\":\"scattercarpet\"}],\"scattergeo\":[{\"marker\":{\"colorbar\":{\"outlinewidth\":0,\"ticks\":\"\"}},\"type\":\"scattergeo\"}],\"scattergl\":[{\"marker\":{\"colorbar\":{\"outlinewidth\":0,\"ticks\":\"\"}},\"type\":\"scattergl\"}],\"scattermapbox\":[{\"marker\":{\"colorbar\":{\"outlinewidth\":0,\"ticks\":\"\"}},\"type\":\"scattermapbox\"}],\"scatterpolar\":[{\"marker\":{\"colorbar\":{\"outlinewidth\":0,\"ticks\":\"\"}},\"type\":\"scatterpolar\"}],\"scatterpolargl\":[{\"marker\":{\"colorbar\":{\"outlinewidth\":0,\"ticks\":\"\"}},\"type\":\"scatterpolargl\"}],\"scatterternary\":[{\"marker\":{\"colorbar\":{\"outlinewidth\":0,\"ticks\":\"\"}},\"type\":\"scatterternary\"}],\"surface\":[{\"colorbar\":{\"outlinewidth\":0,\"ticks\":\"\"},\"colorscale\":[[0.0,\"#0d0887\"],[0.1111111111111111,\"#46039f\"],[0.2222222222222222,\"#7201a8\"],[0.3333333333333333,\"#9c179e\"],[0.4444444444444444,\"#bd3786\"],[0.5555555555555556,\"#d8576b\"],[0.6666666666666666,\"#ed7953\"],[0.7777777777777778,\"#fb9f3a\"],[0.8888888888888888,\"#fdca26\"],[1.0,\"#f0f921\"]],\"type\":\"surface\"}],\"table\":[{\"cells\":{\"fill\":{\"color\":\"#EBF0F8\"},\"line\":{\"color\":\"white\"}},\"header\":{\"fill\":{\"color\":\"#C8D4E3\"},\"line\":{\"color\":\"white\"}},\"type\":\"table\"}]},\"layout\":{\"annotationdefaults\":{\"arrowcolor\":\"#2a3f5f\",\"arrowhead\":0,\"arrowwidth\":1},\"autotypenumbers\":\"strict\",\"coloraxis\":{\"colorbar\":{\"outlinewidth\":0,\"ticks\":\"\"}},\"colorscale\":{\"diverging\":[[0,\"#8e0152\"],[0.1,\"#c51b7d\"],[0.2,\"#de77ae\"],[0.3,\"#f1b6da\"],[0.4,\"#fde0ef\"],[0.5,\"#f7f7f7\"],[0.6,\"#e6f5d0\"],[0.7,\"#b8e186\"],[0.8,\"#7fbc41\"],[0.9,\"#4d9221\"],[1,\"#276419\"]],\"sequential\":[[0.0,\"#0d0887\"],[0.1111111111111111,\"#46039f\"],[0.2222222222222222,\"#7201a8\"],[0.3333333333333333,\"#9c179e\"],[0.4444444444444444,\"#bd3786\"],[0.5555555555555556,\"#d8576b\"],[0.6666666666666666,\"#ed7953\"],[0.7777777777777778,\"#fb9f3a\"],[0.8888888888888888,\"#fdca26\"],[1.0,\"#f0f921\"]],\"sequentialminus\":[[0.0,\"#0d0887\"],[0.1111111111111111,\"#46039f\"],[0.2222222222222222,\"#7201a8\"],[0.3333333333333333,\"#9c179e\"],[0.4444444444444444,\"#bd3786\"],[0.5555555555555556,\"#d8576b\"],[0.6666666666666666,\"#ed7953\"],[0.7777777777777778,\"#fb9f3a\"],[0.8888888888888888,\"#fdca26\"],[1.0,\"#f0f921\"]]},\"colorway\":[\"#636efa\",\"#EF553B\",\"#00cc96\",\"#ab63fa\",\"#FFA15A\",\"#19d3f3\",\"#FF6692\",\"#B6E880\",\"#FF97FF\",\"#FECB52\"],\"font\":{\"color\":\"#2a3f5f\"},\"geo\":{\"bgcolor\":\"white\",\"lakecolor\":\"white\",\"landcolor\":\"#E5ECF6\",\"showlakes\":true,\"showland\":true,\"subunitcolor\":\"white\"},\"hoverlabel\":{\"align\":\"left\"},\"hovermode\":\"closest\",\"mapbox\":{\"style\":\"light\"},\"paper_bgcolor\":\"white\",\"plot_bgcolor\":\"#E5ECF6\",\"polar\":{\"angularaxis\":{\"gridcolor\":\"white\",\"linecolor\":\"white\",\"ticks\":\"\"},\"bgcolor\":\"#E5ECF6\",\"radialaxis\":{\"gridcolor\":\"white\",\"linecolor\":\"white\",\"ticks\":\"\"}},\"scene\":{\"xaxis\":{\"backgroundcolor\":\"#E5ECF6\",\"gridcolor\":\"white\",\"gridwidth\":2,\"linecolor\":\"white\",\"showbackground\":true,\"ticks\":\"\",\"zerolinecolor\":\"white\"},\"yaxis\":{\"backgroundcolor\":\"#E5ECF6\",\"gridcolor\":\"white\",\"gridwidth\":2,\"linecolor\":\"white\",\"showbackground\":true,\"ticks\":\"\",\"zerolinecolor\":\"white\"},\"zaxis\":{\"backgroundcolor\":\"#E5ECF6\",\"gridcolor\":\"white\",\"gridwidth\":2,\"linecolor\":\"white\",\"showbackground\":true,\"ticks\":\"\",\"zerolinecolor\":\"white\"}},\"shapedefaults\":{\"line\":{\"color\":\"#2a3f5f\"}},\"ternary\":{\"aaxis\":{\"gridcolor\":\"white\",\"linecolor\":\"white\",\"ticks\":\"\"},\"baxis\":{\"gridcolor\":\"white\",\"linecolor\":\"white\",\"ticks\":\"\"},\"bgcolor\":\"#E5ECF6\",\"caxis\":{\"gridcolor\":\"white\",\"linecolor\":\"white\",\"ticks\":\"\"}},\"title\":{\"x\":0.05},\"xaxis\":{\"automargin\":true,\"gridcolor\":\"white\",\"linecolor\":\"white\",\"ticks\":\"\",\"title\":{\"standoff\":15},\"zerolinecolor\":\"white\",\"zerolinewidth\":2},\"yaxis\":{\"automargin\":true,\"gridcolor\":\"white\",\"linecolor\":\"white\",\"ticks\":\"\",\"title\":{\"standoff\":15},\"zerolinecolor\":\"white\",\"zerolinewidth\":2}}},\"geo\":{\"domain\":{\"x\":[0.0,1.0],\"y\":[0.0,1.0]},\"center\":{},\"showcountries\":true,\"countrycolor\":\"White\",\"showsubunits\":true,\"subunitcolor\":\"Blue\"},\"legend\":{\"title\":{\"text\":\"COUNTRY\"},\"tracegroupgap\":0,\"itemsizing\":\"constant\"},\"margin\":{\"t\":60},\"title\":{\"text\":\"PARTICIPANTS BY COUNTRY IN THE TRAINING SECTION REAL PRO DATA\"},\"height\":800},                        {\"responsive\": true}                    ).then(function(){\n",
              "                            \n",
              "var gd = document.getElementById('486449bb-a51c-4267-a677-559dcbb6009e');\n",
              "var x = new MutationObserver(function (mutations, observer) {{\n",
              "        var display = window.getComputedStyle(gd).display;\n",
              "        if (!display || display === 'none') {{\n",
              "            console.log([gd, 'removed!']);\n",
              "            Plotly.purge(gd);\n",
              "            observer.disconnect();\n",
              "        }}\n",
              "}});\n",
              "\n",
              "// Listen for the removal of the full notebook cells\n",
              "var notebookContainer = gd.closest('#notebook-container');\n",
              "if (notebookContainer) {{\n",
              "    x.observe(notebookContainer, {childList: true});\n",
              "}}\n",
              "\n",
              "// Listen for the clearing of the current output cell\n",
              "var outputEl = gd.closest('.output');\n",
              "if (outputEl) {{\n",
              "    x.observe(outputEl, {childList: true});\n",
              "}}\n",
              "\n",
              "                        })                };                            </script>        </div>\n",
              "</body>\n",
              "</html>"
            ]
          },
          "metadata": {}
        }
      ]
    },
    {
      "cell_type": "code",
      "source": [
        "\n",
        "fig = px.bar(result, y='PARTICIPANTS', x='COUNTRY', text_auto='.1s',\n",
        "            title=\"PARTICIPANTS BY COUNTRY IN THE TRAINING SECTION REAL PRO DATA\")\n",
        "fig.update_traces(textfont_size=12, textposition=\"outside\", cliponaxis=False)\n",
        "fig.show()"
      ],
      "metadata": {
        "colab": {
          "base_uri": "https://localhost:8080/",
          "height": 542
        },
        "id": "dAnw03E3UbyG",
        "outputId": "d7810c0c-3fd6-465d-d731-2d9fc5fe79ef"
      },
      "execution_count": null,
      "outputs": [
        {
          "output_type": "display_data",
          "data": {
            "text/html": [
              "<html>\n",
              "<head><meta charset=\"utf-8\" /></head>\n",
              "<body>\n",
              "    <div>            <script src=\"https://cdnjs.cloudflare.com/ajax/libs/mathjax/2.7.5/MathJax.js?config=TeX-AMS-MML_SVG\"></script><script type=\"text/javascript\">if (window.MathJax) {MathJax.Hub.Config({SVG: {font: \"STIX-Web\"}});}</script>                <script type=\"text/javascript\">window.PlotlyConfig = {MathJaxConfig: 'local'};</script>\n",
              "        <script src=\"https://cdn.plot.ly/plotly-2.8.3.min.js\"></script>                <div id=\"73ac23dd-1d3d-487e-8a78-948b048fc1ef\" class=\"plotly-graph-div\" style=\"height:525px; width:100%;\"></div>            <script type=\"text/javascript\">                                    window.PLOTLYENV=window.PLOTLYENV || {};                                    if (document.getElementById(\"73ac23dd-1d3d-487e-8a78-948b048fc1ef\")) {                    Plotly.newPlot(                        \"73ac23dd-1d3d-487e-8a78-948b048fc1ef\",                        [{\"alignmentgroup\":\"True\",\"hovertemplate\":\"COUNTRY=%{x}<br>PARTICIPANTS=%{y}<extra></extra>\",\"legendgroup\":\"\",\"marker\":{\"color\":\"#636efa\",\"pattern\":{\"shape\":\"\"}},\"name\":\"\",\"offsetgroup\":\"\",\"orientation\":\"v\",\"showlegend\":false,\"textposition\":\"outside\",\"texttemplate\":\"%{y:.1s}\",\"x\":[\"Ivory Coast\",\"Canada\",\"Morocco\",\"Senegal\",\"Mali\",\"Guinea\",\"Burkina Faso\",\"Togo\",\"Benin\",\"Chad\",\"Cameroon\",\"Gabon\",\"Republic of the Congo\",\"Democratic Republic of the Congo\",\"Angola\",\"France\",\"Haiti\",\"Saudi Arabia\",\"United Arab Emirates\"],\"xaxis\":\"x\",\"y\":[24,5,5,19,2,1,11,3,12,1,3,2,2,1,1,35,1,1,1],\"yaxis\":\"y\",\"type\":\"bar\",\"textfont\":{\"size\":12},\"cliponaxis\":false}],                        {\"template\":{\"data\":{\"bar\":[{\"error_x\":{\"color\":\"#2a3f5f\"},\"error_y\":{\"color\":\"#2a3f5f\"},\"marker\":{\"line\":{\"color\":\"#E5ECF6\",\"width\":0.5},\"pattern\":{\"fillmode\":\"overlay\",\"size\":10,\"solidity\":0.2}},\"type\":\"bar\"}],\"barpolar\":[{\"marker\":{\"line\":{\"color\":\"#E5ECF6\",\"width\":0.5},\"pattern\":{\"fillmode\":\"overlay\",\"size\":10,\"solidity\":0.2}},\"type\":\"barpolar\"}],\"carpet\":[{\"aaxis\":{\"endlinecolor\":\"#2a3f5f\",\"gridcolor\":\"white\",\"linecolor\":\"white\",\"minorgridcolor\":\"white\",\"startlinecolor\":\"#2a3f5f\"},\"baxis\":{\"endlinecolor\":\"#2a3f5f\",\"gridcolor\":\"white\",\"linecolor\":\"white\",\"minorgridcolor\":\"white\",\"startlinecolor\":\"#2a3f5f\"},\"type\":\"carpet\"}],\"choropleth\":[{\"colorbar\":{\"outlinewidth\":0,\"ticks\":\"\"},\"type\":\"choropleth\"}],\"contour\":[{\"colorbar\":{\"outlinewidth\":0,\"ticks\":\"\"},\"colorscale\":[[0.0,\"#0d0887\"],[0.1111111111111111,\"#46039f\"],[0.2222222222222222,\"#7201a8\"],[0.3333333333333333,\"#9c179e\"],[0.4444444444444444,\"#bd3786\"],[0.5555555555555556,\"#d8576b\"],[0.6666666666666666,\"#ed7953\"],[0.7777777777777778,\"#fb9f3a\"],[0.8888888888888888,\"#fdca26\"],[1.0,\"#f0f921\"]],\"type\":\"contour\"}],\"contourcarpet\":[{\"colorbar\":{\"outlinewidth\":0,\"ticks\":\"\"},\"type\":\"contourcarpet\"}],\"heatmap\":[{\"colorbar\":{\"outlinewidth\":0,\"ticks\":\"\"},\"colorscale\":[[0.0,\"#0d0887\"],[0.1111111111111111,\"#46039f\"],[0.2222222222222222,\"#7201a8\"],[0.3333333333333333,\"#9c179e\"],[0.4444444444444444,\"#bd3786\"],[0.5555555555555556,\"#d8576b\"],[0.6666666666666666,\"#ed7953\"],[0.7777777777777778,\"#fb9f3a\"],[0.8888888888888888,\"#fdca26\"],[1.0,\"#f0f921\"]],\"type\":\"heatmap\"}],\"heatmapgl\":[{\"colorbar\":{\"outlinewidth\":0,\"ticks\":\"\"},\"colorscale\":[[0.0,\"#0d0887\"],[0.1111111111111111,\"#46039f\"],[0.2222222222222222,\"#7201a8\"],[0.3333333333333333,\"#9c179e\"],[0.4444444444444444,\"#bd3786\"],[0.5555555555555556,\"#d8576b\"],[0.6666666666666666,\"#ed7953\"],[0.7777777777777778,\"#fb9f3a\"],[0.8888888888888888,\"#fdca26\"],[1.0,\"#f0f921\"]],\"type\":\"heatmapgl\"}],\"histogram\":[{\"marker\":{\"pattern\":{\"fillmode\":\"overlay\",\"size\":10,\"solidity\":0.2}},\"type\":\"histogram\"}],\"histogram2d\":[{\"colorbar\":{\"outlinewidth\":0,\"ticks\":\"\"},\"colorscale\":[[0.0,\"#0d0887\"],[0.1111111111111111,\"#46039f\"],[0.2222222222222222,\"#7201a8\"],[0.3333333333333333,\"#9c179e\"],[0.4444444444444444,\"#bd3786\"],[0.5555555555555556,\"#d8576b\"],[0.6666666666666666,\"#ed7953\"],[0.7777777777777778,\"#fb9f3a\"],[0.8888888888888888,\"#fdca26\"],[1.0,\"#f0f921\"]],\"type\":\"histogram2d\"}],\"histogram2dcontour\":[{\"colorbar\":{\"outlinewidth\":0,\"ticks\":\"\"},\"colorscale\":[[0.0,\"#0d0887\"],[0.1111111111111111,\"#46039f\"],[0.2222222222222222,\"#7201a8\"],[0.3333333333333333,\"#9c179e\"],[0.4444444444444444,\"#bd3786\"],[0.5555555555555556,\"#d8576b\"],[0.6666666666666666,\"#ed7953\"],[0.7777777777777778,\"#fb9f3a\"],[0.8888888888888888,\"#fdca26\"],[1.0,\"#f0f921\"]],\"type\":\"histogram2dcontour\"}],\"mesh3d\":[{\"colorbar\":{\"outlinewidth\":0,\"ticks\":\"\"},\"type\":\"mesh3d\"}],\"parcoords\":[{\"line\":{\"colorbar\":{\"outlinewidth\":0,\"ticks\":\"\"}},\"type\":\"parcoords\"}],\"pie\":[{\"automargin\":true,\"type\":\"pie\"}],\"scatter\":[{\"marker\":{\"colorbar\":{\"outlinewidth\":0,\"ticks\":\"\"}},\"type\":\"scatter\"}],\"scatter3d\":[{\"line\":{\"colorbar\":{\"outlinewidth\":0,\"ticks\":\"\"}},\"marker\":{\"colorbar\":{\"outlinewidth\":0,\"ticks\":\"\"}},\"type\":\"scatter3d\"}],\"scattercarpet\":[{\"marker\":{\"colorbar\":{\"outlinewidth\":0,\"ticks\":\"\"}},\"type\":\"scattercarpet\"}],\"scattergeo\":[{\"marker\":{\"colorbar\":{\"outlinewidth\":0,\"ticks\":\"\"}},\"type\":\"scattergeo\"}],\"scattergl\":[{\"marker\":{\"colorbar\":{\"outlinewidth\":0,\"ticks\":\"\"}},\"type\":\"scattergl\"}],\"scattermapbox\":[{\"marker\":{\"colorbar\":{\"outlinewidth\":0,\"ticks\":\"\"}},\"type\":\"scattermapbox\"}],\"scatterpolar\":[{\"marker\":{\"colorbar\":{\"outlinewidth\":0,\"ticks\":\"\"}},\"type\":\"scatterpolar\"}],\"scatterpolargl\":[{\"marker\":{\"colorbar\":{\"outlinewidth\":0,\"ticks\":\"\"}},\"type\":\"scatterpolargl\"}],\"scatterternary\":[{\"marker\":{\"colorbar\":{\"outlinewidth\":0,\"ticks\":\"\"}},\"type\":\"scatterternary\"}],\"surface\":[{\"colorbar\":{\"outlinewidth\":0,\"ticks\":\"\"},\"colorscale\":[[0.0,\"#0d0887\"],[0.1111111111111111,\"#46039f\"],[0.2222222222222222,\"#7201a8\"],[0.3333333333333333,\"#9c179e\"],[0.4444444444444444,\"#bd3786\"],[0.5555555555555556,\"#d8576b\"],[0.6666666666666666,\"#ed7953\"],[0.7777777777777778,\"#fb9f3a\"],[0.8888888888888888,\"#fdca26\"],[1.0,\"#f0f921\"]],\"type\":\"surface\"}],\"table\":[{\"cells\":{\"fill\":{\"color\":\"#EBF0F8\"},\"line\":{\"color\":\"white\"}},\"header\":{\"fill\":{\"color\":\"#C8D4E3\"},\"line\":{\"color\":\"white\"}},\"type\":\"table\"}]},\"layout\":{\"annotationdefaults\":{\"arrowcolor\":\"#2a3f5f\",\"arrowhead\":0,\"arrowwidth\":1},\"autotypenumbers\":\"strict\",\"coloraxis\":{\"colorbar\":{\"outlinewidth\":0,\"ticks\":\"\"}},\"colorscale\":{\"diverging\":[[0,\"#8e0152\"],[0.1,\"#c51b7d\"],[0.2,\"#de77ae\"],[0.3,\"#f1b6da\"],[0.4,\"#fde0ef\"],[0.5,\"#f7f7f7\"],[0.6,\"#e6f5d0\"],[0.7,\"#b8e186\"],[0.8,\"#7fbc41\"],[0.9,\"#4d9221\"],[1,\"#276419\"]],\"sequential\":[[0.0,\"#0d0887\"],[0.1111111111111111,\"#46039f\"],[0.2222222222222222,\"#7201a8\"],[0.3333333333333333,\"#9c179e\"],[0.4444444444444444,\"#bd3786\"],[0.5555555555555556,\"#d8576b\"],[0.6666666666666666,\"#ed7953\"],[0.7777777777777778,\"#fb9f3a\"],[0.8888888888888888,\"#fdca26\"],[1.0,\"#f0f921\"]],\"sequentialminus\":[[0.0,\"#0d0887\"],[0.1111111111111111,\"#46039f\"],[0.2222222222222222,\"#7201a8\"],[0.3333333333333333,\"#9c179e\"],[0.4444444444444444,\"#bd3786\"],[0.5555555555555556,\"#d8576b\"],[0.6666666666666666,\"#ed7953\"],[0.7777777777777778,\"#fb9f3a\"],[0.8888888888888888,\"#fdca26\"],[1.0,\"#f0f921\"]]},\"colorway\":[\"#636efa\",\"#EF553B\",\"#00cc96\",\"#ab63fa\",\"#FFA15A\",\"#19d3f3\",\"#FF6692\",\"#B6E880\",\"#FF97FF\",\"#FECB52\"],\"font\":{\"color\":\"#2a3f5f\"},\"geo\":{\"bgcolor\":\"white\",\"lakecolor\":\"white\",\"landcolor\":\"#E5ECF6\",\"showlakes\":true,\"showland\":true,\"subunitcolor\":\"white\"},\"hoverlabel\":{\"align\":\"left\"},\"hovermode\":\"closest\",\"mapbox\":{\"style\":\"light\"},\"paper_bgcolor\":\"white\",\"plot_bgcolor\":\"#E5ECF6\",\"polar\":{\"angularaxis\":{\"gridcolor\":\"white\",\"linecolor\":\"white\",\"ticks\":\"\"},\"bgcolor\":\"#E5ECF6\",\"radialaxis\":{\"gridcolor\":\"white\",\"linecolor\":\"white\",\"ticks\":\"\"}},\"scene\":{\"xaxis\":{\"backgroundcolor\":\"#E5ECF6\",\"gridcolor\":\"white\",\"gridwidth\":2,\"linecolor\":\"white\",\"showbackground\":true,\"ticks\":\"\",\"zerolinecolor\":\"white\"},\"yaxis\":{\"backgroundcolor\":\"#E5ECF6\",\"gridcolor\":\"white\",\"gridwidth\":2,\"linecolor\":\"white\",\"showbackground\":true,\"ticks\":\"\",\"zerolinecolor\":\"white\"},\"zaxis\":{\"backgroundcolor\":\"#E5ECF6\",\"gridcolor\":\"white\",\"gridwidth\":2,\"linecolor\":\"white\",\"showbackground\":true,\"ticks\":\"\",\"zerolinecolor\":\"white\"}},\"shapedefaults\":{\"line\":{\"color\":\"#2a3f5f\"}},\"ternary\":{\"aaxis\":{\"gridcolor\":\"white\",\"linecolor\":\"white\",\"ticks\":\"\"},\"baxis\":{\"gridcolor\":\"white\",\"linecolor\":\"white\",\"ticks\":\"\"},\"bgcolor\":\"#E5ECF6\",\"caxis\":{\"gridcolor\":\"white\",\"linecolor\":\"white\",\"ticks\":\"\"}},\"title\":{\"x\":0.05},\"xaxis\":{\"automargin\":true,\"gridcolor\":\"white\",\"linecolor\":\"white\",\"ticks\":\"\",\"title\":{\"standoff\":15},\"zerolinecolor\":\"white\",\"zerolinewidth\":2},\"yaxis\":{\"automargin\":true,\"gridcolor\":\"white\",\"linecolor\":\"white\",\"ticks\":\"\",\"title\":{\"standoff\":15},\"zerolinecolor\":\"white\",\"zerolinewidth\":2}}},\"xaxis\":{\"anchor\":\"y\",\"domain\":[0.0,1.0],\"title\":{\"text\":\"COUNTRY\"}},\"yaxis\":{\"anchor\":\"x\",\"domain\":[0.0,1.0],\"title\":{\"text\":\"PARTICIPANTS\"}},\"legend\":{\"tracegroupgap\":0},\"title\":{\"text\":\"PARTICIPANTS BY COUNTRY IN THE TRAINING SECTION REAL PRO DATA\"},\"barmode\":\"relative\"},                        {\"responsive\": true}                    ).then(function(){\n",
              "                            \n",
              "var gd = document.getElementById('73ac23dd-1d3d-487e-8a78-948b048fc1ef');\n",
              "var x = new MutationObserver(function (mutations, observer) {{\n",
              "        var display = window.getComputedStyle(gd).display;\n",
              "        if (!display || display === 'none') {{\n",
              "            console.log([gd, 'removed!']);\n",
              "            Plotly.purge(gd);\n",
              "            observer.disconnect();\n",
              "        }}\n",
              "}});\n",
              "\n",
              "// Listen for the removal of the full notebook cells\n",
              "var notebookContainer = gd.closest('#notebook-container');\n",
              "if (notebookContainer) {{\n",
              "    x.observe(notebookContainer, {childList: true});\n",
              "}}\n",
              "\n",
              "// Listen for the clearing of the current output cell\n",
              "var outputEl = gd.closest('.output');\n",
              "if (outputEl) {{\n",
              "    x.observe(outputEl, {childList: true});\n",
              "}}\n",
              "\n",
              "                        })                };                            </script>        </div>\n",
              "</body>\n",
              "</html>"
            ]
          },
          "metadata": {}
        }
      ]
    }
  ]
}